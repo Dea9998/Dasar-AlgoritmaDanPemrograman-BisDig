{
  "nbformat": 4,
  "nbformat_minor": 0,
  "metadata": {
    "colab": {
      "provenance": []
    },
    "kernelspec": {
      "name": "python3",
      "display_name": "Python 3"
    },
    "language_info": {
      "name": "python"
    }
  },
  "cells": [
    {
      "cell_type": "code",
      "execution_count": 1,
      "metadata": {
        "id": "UCWSjmB13VAs",
        "colab": {
          "base_uri": "https://localhost:8080/"
        },
        "outputId": "f56db307-4241-48ac-8c7b-0f1b386e2b01"
      },
      "outputs": [
        {
          "output_type": "stream",
          "name": "stdout",
          "text": [
            "Masukkan nilai siswa ke-1: 70\n",
            "Masukkan nilai siswa ke-2: 50\n",
            "Masukkan nilai siswa ke-3: 80\n",
            "Masukkan nilai siswa ke-4: 80\n",
            "Masukkan nilai siswa ke-5: 56\n",
            "\n",
            "Nilai tertinggi adalah 80.0 diperoleh oleh siswa ke-3\n"
          ]
        }
      ],
      "source": [
        "# Program untuk menentukan nilai tertinggi dari 5 siswa\n",
        "\n",
        "# Inisialisasi list kosong untuk menampung nilai siswa\n",
        "nilai_siswa = []\n",
        "\n",
        "# Input nilai 5 siswa\n",
        "for i in range(5):\n",
        "    try:\n",
        "        nilai = float(input(f\"Masukkan nilai siswa ke-{i+1}: \"))\n",
        "        nilai_siswa.append(nilai)\n",
        "    except ValueError:\n",
        "        print(\"Input tidak valid! Harap masukkan angka.\")\n",
        "        exit()\n",
        "\n",
        "# Menentukan nilai tertinggi dan siswa ke berapa yang mendapatkannya\n",
        "nilai_tertinggi = max(nilai_siswa)\n",
        "siswa_tertinggi = nilai_siswa.index(nilai_tertinggi) + 1  # +1 karena index dimulai dari 0\n",
        "\n",
        "# Menampilkan hasil\n",
        "print(f\"\\nNilai tertinggi adalah {nilai_tertinggi} diperoleh oleh siswa ke-{siswa_tertinggi}\")\n"
      ]
    }
  ]
}