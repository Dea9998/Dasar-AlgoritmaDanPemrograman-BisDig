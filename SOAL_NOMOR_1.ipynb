{
  "nbformat": 4,
  "nbformat_minor": 0,
  "metadata": {
    "colab": {
      "provenance": []
    },
    "kernelspec": {
      "name": "python3",
      "display_name": "Python 3"
    },
    "language_info": {
      "name": "python"
    }
  },
  "cells": [
    {
      "cell_type": "code",
      "execution_count": 2,
      "metadata": {
        "id": "UCWSjmB13VAs",
        "colab": {
          "base_uri": "https://localhost:8080/"
        },
        "outputId": "75f5bf23-014e-4578-c7c4-d69f2d7f61af"
      },
      "outputs": [
        {
          "output_type": "stream",
          "name": "stdout",
          "text": [
            "Masukkan total belanja (Rp): 600000\n",
            "Anda mendapatkan diskon 10% sebesar Rp60000\n",
            "Total yang harus dibayar: Rp540000\n"
          ]
        }
      ],
      "source": [
        "# Program pemberian diskon e-commerce\n",
        "\n",
        "try:\n",
        "    total_belanja = float(input(\"Masukkan total belanja (Rp): \"))\n",
        "\n",
        "    if total_belanja > 500000:\n",
        "        diskon = total_belanja * 0.10\n",
        "        total_bayar = total_belanja - diskon\n",
        "        print(f\"Anda mendapatkan diskon 10% sebesar Rp{diskon:.0f}\")\n",
        "    else:\n",
        "        diskon = 0\n",
        "        total_bayar = total_belanja\n",
        "        print(\"Anda tidak mendapatkan diskon.\")\n",
        "\n",
        "    print(f\"Total yang harus dibayar: Rp{total_bayar:.0f}\")\n",
        "\n",
        "except ValueError:\n",
        "    print(\"Input tidak valid. Harap masukkan angka.\")"
      ]
    }
  ]
}