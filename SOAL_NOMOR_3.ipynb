{
  "nbformat": 4,
  "nbformat_minor": 0,
  "metadata": {
    "colab": {
      "provenance": []
    },
    "kernelspec": {
      "name": "python3",
      "display_name": "Python 3"
    },
    "language_info": {
      "name": "python"
    }
  },
  "cells": [
    {
      "cell_type": "code",
      "execution_count": 6,
      "metadata": {
        "id": "UCWSjmB13VAs",
        "colab": {
          "base_uri": "https://localhost:8080/"
        },
        "outputId": "17963fac-cfd1-46e1-d06f-ea9d3c51cb74"
      },
      "outputs": [
        {
          "output_type": "stream",
          "name": "stdout",
          "text": [
            "Masukkan bilangan bulat non-negatif: 4\n",
            "Faktorial dari 4 adalah 24\n"
          ]
        }
      ],
      "source": [
        "def faktorial(n):\n",
        "    if n == 0:\n",
        "        return 1\n",
        "    else:\n",
        "        return n * faktorial(n - 1)\n",
        "\n",
        "try:\n",
        "    angka = int(input(\"Masukkan bilangan bulat non-negatif: \"))\n",
        "    if angka < 0:\n",
        "        print(\"Faktorial tidak terdefinisi untuk bilangan negatif.\")\n",
        "    else:\n",
        "        hasil = faktorial(angka)\n",
        "        print(f\"Faktorial dari {angka} adalah {hasil}\")\n",
        "except ValueError:\n",
        "    print(\"Input tidak valid. Harap masukkan bilangan bulat.\")"
      ]
    }
  ]
}