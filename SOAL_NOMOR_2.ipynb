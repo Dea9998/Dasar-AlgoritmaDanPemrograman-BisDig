{
  "nbformat": 4,
  "nbformat_minor": 0,
  "metadata": {
    "colab": {
      "provenance": []
    },
    "kernelspec": {
      "name": "python3",
      "display_name": "Python 3"
    },
    "language_info": {
      "name": "python"
    }
  },
  "cells": [
    {
      "cell_type": "code",
      "execution_count": 3,
      "metadata": {
        "id": "UCWSjmB13VAs",
        "colab": {
          "base_uri": "https://localhost:8080/"
        },
        "outputId": "01b16dde-f0f2-44d4-f9f0-57af5381d953"
      },
      "outputs": [
        {
          "output_type": "stream",
          "name": "stdout",
          "text": [
            "Masukkan nilai pelajaran 1: 60\n",
            "Masukkan nilai pelajaran 2: 70\n",
            "Masukkan nilai pelajaran 3: 75\n",
            "\n",
            "Rata-rata nilai: 68.33\n",
            "Status: TIDAK LULUS\n"
          ]
        }
      ],
      "source": [
        "try:\n",
        "    # Input nilai\n",
        "    nilai1 = float(input(\"Masukkan nilai pelajaran 1: \"))\n",
        "    nilai2 = float(input(\"Masukkan nilai pelajaran 2: \"))\n",
        "    nilai3 = float(input(\"Masukkan nilai pelajaran 3: \"))\n",
        "\n",
        "    # Hitung rata-rata\n",
        "    rata_rata = (nilai1 + nilai2 + nilai3) / 3\n",
        "\n",
        "    # Tampilkan hasil\n",
        "    print(f\"\\nRata-rata nilai: {rata_rata:.2f}\")\n",
        "    if rata_rata >= 75:\n",
        "        print(\"Status: LULUS\")\n",
        "    else:\n",
        "        print(\"Status: TIDAK LULUS\")\n",
        "\n",
        "except ValueError:\n",
        "    print(\"Input tidak valid. Harap masukkan angka.\")"
      ]
    }
  ]
}