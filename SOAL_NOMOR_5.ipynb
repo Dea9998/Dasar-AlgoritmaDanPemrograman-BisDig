{
  "nbformat": 4,
  "nbformat_minor": 0,
  "metadata": {
    "colab": {
      "provenance": []
    },
    "kernelspec": {
      "name": "python3",
      "display_name": "Python 3"
    },
    "language_info": {
      "name": "python"
    }
  },
  "cells": [
    {
      "cell_type": "code",
      "execution_count": 7,
      "metadata": {
        "id": "UCWSjmB13VAs",
        "colab": {
          "base_uri": "https://localhost:8080/"
        },
        "outputId": "d349ef5c-8ce7-4c4f-d93a-3ba52a6edfef"
      },
      "outputs": [
        {
          "output_type": "stream",
          "name": "stdout",
          "text": [
            "Masukkan harga barang ke-1: Rp50000\n",
            "Masukkan harga barang ke-2: Rp80000\n",
            "Masukkan harga barang ke-3: Rp4000\n",
            "\n",
            "Total yang harus dibayar: Rp134000.00\n"
          ]
        }
      ],
      "source": [
        "try:\n",
        "    barang1 = float(input(\"Masukkan harga barang ke-1: Rp\"))\n",
        "    barang2 = float(input(\"Masukkan harga barang ke-2: Rp\"))\n",
        "    barang3 = float(input(\"Masukkan harga barang ke-3: Rp\"))\n",
        "\n",
        "    total = barang1 + barang2 + barang3\n",
        "\n",
        "    print(f\"\\nTotal yang harus dibayar: Rp{total:.2f}\")\n",
        "\n",
        "except ValueError:\n",
        "    print(\"Input tidak valid. Harap masukkan angka.\")"
      ]
    }
  ]
}